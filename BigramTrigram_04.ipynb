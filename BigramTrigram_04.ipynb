{
 "cells": [
  {
   "cell_type": "code",
   "execution_count": 1,
   "metadata": {},
   "outputs": [
    {
     "name": "stdout",
     "output_type": "stream",
     "text": [
      "Requirement already satisfied: nltk in c:\\users\\hp\\appdata\\local\\packages\\pythonsoftwarefoundation.python.3.11_qbz5n2kfra8p0\\localcache\\local-packages\\python311\\site-packages (3.9.1)\n",
      "Requirement already satisfied: click in c:\\users\\hp\\appdata\\local\\packages\\pythonsoftwarefoundation.python.3.11_qbz5n2kfra8p0\\localcache\\local-packages\\python311\\site-packages (from nltk) (8.1.7)\n",
      "Requirement already satisfied: joblib in c:\\users\\hp\\appdata\\local\\packages\\pythonsoftwarefoundation.python.3.11_qbz5n2kfra8p0\\localcache\\local-packages\\python311\\site-packages (from nltk) (1.4.2)\n",
      "Requirement already satisfied: regex>=2021.8.3 in c:\\users\\hp\\appdata\\local\\packages\\pythonsoftwarefoundation.python.3.11_qbz5n2kfra8p0\\localcache\\local-packages\\python311\\site-packages (from nltk) (2024.11.6)\n",
      "Requirement already satisfied: tqdm in c:\\users\\hp\\appdata\\local\\packages\\pythonsoftwarefoundation.python.3.11_qbz5n2kfra8p0\\localcache\\local-packages\\python311\\site-packages (from nltk) (4.66.4)\n",
      "Requirement already satisfied: colorama in c:\\users\\hp\\appdata\\local\\packages\\pythonsoftwarefoundation.python.3.11_qbz5n2kfra8p0\\localcache\\local-packages\\python311\\site-packages (from click->nltk) (0.4.6)\n",
      "Note: you may need to restart the kernel to use updated packages.\n"
     ]
    },
    {
     "name": "stderr",
     "output_type": "stream",
     "text": [
      "\n",
      "[notice] A new release of pip is available: 24.2 -> 24.3.1\n",
      "[notice] To update, run: C:\\Users\\HP\\AppData\\Local\\Microsoft\\WindowsApps\\PythonSoftwareFoundation.Python.3.11_qbz5n2kfra8p0\\python.exe -m pip install --upgrade pip\n"
     ]
    }
   ],
   "source": [
    "pip install nltk\n"
   ]
  },
  {
   "cell_type": "code",
   "execution_count": 2,
   "metadata": {},
   "outputs": [
    {
     "name": "stdout",
     "output_type": "stream",
     "text": [
      "nltk version: 3.9.1\n"
     ]
    }
   ],
   "source": [
    "import nltk\n",
    "print(\"nltk version:\", nltk.__version__)\n"
   ]
  },
  {
   "cell_type": "code",
   "execution_count": 3,
   "metadata": {},
   "outputs": [
    {
     "name": "stderr",
     "output_type": "stream",
     "text": [
      "[nltk_data] Downloading package punkt to\n",
      "[nltk_data]     C:\\Users\\HP\\AppData\\Roaming\\nltk_data...\n",
      "[nltk_data]   Unzipping tokenizers\\punkt.zip.\n"
     ]
    },
    {
     "data": {
      "text/plain": [
       "True"
      ]
     },
     "execution_count": 3,
     "metadata": {},
     "output_type": "execute_result"
    }
   ],
   "source": [
    "import nltk\n",
    "nltk.download('punkt')  # For tokenization\n"
   ]
  },
  {
   "cell_type": "code",
   "execution_count": 7,
   "metadata": {},
   "outputs": [
    {
     "name": "stdout",
     "output_type": "stream",
     "text": [
      "***********   UNIGRAM    ************************\n",
      "('Earth',)\n",
      "('is',)\n",
      "('the',)\n",
      "('third',)\n",
      "('planet',)\n",
      "('from',)\n",
      "('the',)\n",
      "('Sun',)\n",
      "('in',)\n",
      "('our',)\n",
      "('solar',)\n",
      "('system',)\n",
      "('and',)\n",
      "('the',)\n",
      "('only',)\n",
      "('known',)\n",
      "('celestial',)\n",
      "('body',)\n",
      "('to',)\n",
      "('support',)\n",
      "('life.',)\n",
      "('With',)\n",
      "('a',)\n",
      "('diverse',)\n",
      "('range',)\n",
      "('of',)\n",
      "('ecosystems,',)\n",
      "('it',)\n",
      "('is',)\n",
      "('home',)\n",
      "('to',)\n",
      "('a',)\n",
      "('vast',)\n",
      "('array',)\n",
      "('of',)\n",
      "('plant',)\n",
      "('and',)\n",
      "('animal',)\n",
      "('species,',)\n",
      "('including',)\n",
      "('humans.',)\n",
      "\n",
      "***********   BIGRAM    ************************\n",
      "('Earth', 'is')\n",
      "('is', 'the')\n",
      "('the', 'third')\n",
      "('third', 'planet')\n",
      "('planet', 'from')\n",
      "('from', 'the')\n",
      "('the', 'Sun')\n",
      "('Sun', 'in')\n",
      "('in', 'our')\n",
      "('our', 'solar')\n",
      "('solar', 'system')\n",
      "('system', 'and')\n",
      "('and', 'the')\n",
      "('the', 'only')\n",
      "('only', 'known')\n",
      "('known', 'celestial')\n",
      "('celestial', 'body')\n",
      "('body', 'to')\n",
      "('to', 'support')\n",
      "('support', 'life.')\n",
      "('life.', 'With')\n",
      "('With', 'a')\n",
      "('a', 'diverse')\n",
      "('diverse', 'range')\n",
      "('range', 'of')\n",
      "('of', 'ecosystems,')\n",
      "('ecosystems,', 'it')\n",
      "('it', 'is')\n",
      "('is', 'home')\n",
      "('home', 'to')\n",
      "('to', 'a')\n",
      "('a', 'vast')\n",
      "('vast', 'array')\n",
      "('array', 'of')\n",
      "('of', 'plant')\n",
      "('plant', 'and')\n",
      "('and', 'animal')\n",
      "('animal', 'species,')\n",
      "('species,', 'including')\n",
      "('including', 'humans.')\n",
      "\n",
      "***********   TRIGRAM    ************************\n",
      "('Earth', 'is', 'the')\n",
      "('is', 'the', 'third')\n",
      "('the', 'third', 'planet')\n",
      "('third', 'planet', 'from')\n",
      "('planet', 'from', 'the')\n",
      "('from', 'the', 'Sun')\n",
      "('the', 'Sun', 'in')\n",
      "('Sun', 'in', 'our')\n",
      "('in', 'our', 'solar')\n",
      "('our', 'solar', 'system')\n",
      "('solar', 'system', 'and')\n",
      "('system', 'and', 'the')\n",
      "('and', 'the', 'only')\n",
      "('the', 'only', 'known')\n",
      "('only', 'known', 'celestial')\n",
      "('known', 'celestial', 'body')\n",
      "('celestial', 'body', 'to')\n",
      "('body', 'to', 'support')\n",
      "('to', 'support', 'life.')\n",
      "('support', 'life.', 'With')\n",
      "('life.', 'With', 'a')\n",
      "('With', 'a', 'diverse')\n",
      "('a', 'diverse', 'range')\n",
      "('diverse', 'range', 'of')\n",
      "('range', 'of', 'ecosystems,')\n",
      "('of', 'ecosystems,', 'it')\n",
      "('ecosystems,', 'it', 'is')\n",
      "('it', 'is', 'home')\n",
      "('is', 'home', 'to')\n",
      "('home', 'to', 'a')\n",
      "('to', 'a', 'vast')\n",
      "('a', 'vast', 'array')\n",
      "('vast', 'array', 'of')\n",
      "('array', 'of', 'plant')\n",
      "('of', 'plant', 'and')\n",
      "('plant', 'and', 'animal')\n",
      "('and', 'animal', 'species,')\n",
      "('animal', 'species,', 'including')\n",
      "('species,', 'including', 'humans.')\n"
     ]
    }
   ],
   "source": [
    "from nltk import ngrams\n",
    "\n",
    "# Function to generate and print unigrams, bigrams, and trigrams\n",
    "def generate_ngrams(text):\n",
    "    # Split the text into words\n",
    "    words = text.split()\n",
    "    \n",
    "    # Unigram model (1-gram)\n",
    "    unigrams = ngrams(words, 1)\n",
    "    print(f\"***********   UNIGRAM    ************************\")\n",
    "    for item in unigrams:\n",
    "        print(item)\n",
    "    \n",
    "    # Bigram model (2-grams)\n",
    "    bigrams = ngrams(words, 2)\n",
    "    print(f\"\\n***********   BIGRAM    ************************\")\n",
    "    for item in bigrams:\n",
    "        print(item)\n",
    "    \n",
    "    # Trigram model (3-grams)\n",
    "    trigrams = ngrams(words, 3)\n",
    "    print(f\"\\n***********   TRIGRAM    ************************\")\n",
    "    for item in trigrams:\n",
    "        print(item)\n",
    "\n",
    "# Example sentence\n",
    "sentence = 'Earth is the third planet from the Sun in our solar system and the only known celestial body to support life. With a diverse range of ecosystems, it is home to a vast array of plant and animal species, including humans.'\n",
    "\n",
    "# Generate and print unigrams, bigrams, and trigrams\n",
    "generate_ngrams(sentence)\n"
   ]
  }
 ],
 "metadata": {
  "kernelspec": {
   "display_name": "Python 3",
   "language": "python",
   "name": "python3"
  },
  "language_info": {
   "codemirror_mode": {
    "name": "ipython",
    "version": 3
   },
   "file_extension": ".py",
   "mimetype": "text/x-python",
   "name": "python",
   "nbconvert_exporter": "python",
   "pygments_lexer": "ipython3",
   "version": "3.11.9"
  }
 },
 "nbformat": 4,
 "nbformat_minor": 2
}
